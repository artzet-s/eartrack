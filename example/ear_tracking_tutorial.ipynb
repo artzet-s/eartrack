{
 "cells": [
  {
   "cell_type": "markdown",
   "metadata": {},
   "source": [
    "# Ear Tracking tutorial"
   ]
  },
  {
   "cell_type": "code",
   "execution_count": 1,
   "metadata": {},
   "outputs": [
    {
     "name": "stdout",
     "output_type": "stream",
     "text": [
      "NOT using graph editor observer No module named grapheditor\n"
     ]
    }
   ],
   "source": [
    "import os\n",
    "import numpy as np\n",
    "import matplotlib.pyplot as plt\n",
    "\n",
    "import openalea.eartrack\n",
    "import openalea.eartrack.eartrack as et_lib\n",
    "import openalea.eartrack.binarisation_folder as st_lib\n",
    "from openalea.deploy.shared_data import shared_data"
   ]
  },
  {
   "cell_type": "markdown",
   "metadata": {},
   "source": [
    "## Get example images and parameters needed for segmentation and ear tracking"
   ]
  },
  {
   "cell_type": "code",
   "execution_count": 4,
   "metadata": {},
   "outputs": [
    {
     "name": "stdout",
     "output_type": "stream",
     "text": [
      "True\n"
     ]
    },
    {
     "ename": "AttributeError",
     "evalue": "'NoneType' object has no attribute 'endswith'",
     "output_type": "error",
     "traceback": [
      "\u001b[0;31m---------------------------------------------------------------------------\u001b[0m",
      "\u001b[0;31mAttributeError\u001b[0m                            Traceback (most recent call last)",
      "\u001b[0;32m<ipython-input-4-5ab944c91887>\u001b[0m in \u001b[0;36m<module>\u001b[0;34m()\u001b[0m\n\u001b[1;32m      6\u001b[0m \u001b[0;31m# Read images' information and create output folders\u001b[0m\u001b[0;34m\u001b[0m\u001b[0;34m\u001b[0m\u001b[0m\n\u001b[1;32m      7\u001b[0m \u001b[0mshare_data_directory\u001b[0m \u001b[0;34m=\u001b[0m \u001b[0mshared_data\u001b[0m\u001b[0;34m(\u001b[0m\u001b[0mopenalea\u001b[0m\u001b[0;34m.\u001b[0m\u001b[0meartrack\u001b[0m\u001b[0;34m)\u001b[0m\u001b[0;34m\u001b[0m\u001b[0m\n\u001b[0;32m----> 8\u001b[0;31m \u001b[0mparam_folder\u001b[0m \u001b[0;34m=\u001b[0m \u001b[0mos\u001b[0m\u001b[0;34m.\u001b[0m\u001b[0mpath\u001b[0m\u001b[0;34m.\u001b[0m\u001b[0mjoin\u001b[0m\u001b[0;34m(\u001b[0m\u001b[0mshare_data_directory\u001b[0m\u001b[0;34m,\u001b[0m \u001b[0;34m\"parameters\"\u001b[0m\u001b[0;34m)\u001b[0m\u001b[0;34m\u001b[0m\u001b[0m\n\u001b[0m\u001b[1;32m      9\u001b[0m \u001b[0mimages_folder\u001b[0m \u001b[0;34m=\u001b[0m \u001b[0mos\u001b[0m\u001b[0;34m.\u001b[0m\u001b[0mpath\u001b[0m\u001b[0;34m.\u001b[0m\u001b[0mjoin\u001b[0m\u001b[0;34m(\u001b[0m\u001b[0mshare_data_directory\u001b[0m\u001b[0;34m,\u001b[0m \u001b[0;34m\"images\"\u001b[0m\u001b[0;34m)\u001b[0m\u001b[0;34m\u001b[0m\u001b[0m\n\u001b[1;32m     10\u001b[0m \u001b[0;34m\u001b[0m\u001b[0m\n",
      "\u001b[0;32m/Users/pradal/miniconda2/envs/testtrack/lib/python2.7/posixpath.pyc\u001b[0m in \u001b[0;36mjoin\u001b[0;34m(a, *p)\u001b[0m\n\u001b[1;32m     68\u001b[0m         \u001b[0;32mif\u001b[0m \u001b[0mb\u001b[0m\u001b[0;34m.\u001b[0m\u001b[0mstartswith\u001b[0m\u001b[0;34m(\u001b[0m\u001b[0;34m'/'\u001b[0m\u001b[0;34m)\u001b[0m\u001b[0;34m:\u001b[0m\u001b[0;34m\u001b[0m\u001b[0m\n\u001b[1;32m     69\u001b[0m             \u001b[0mpath\u001b[0m \u001b[0;34m=\u001b[0m \u001b[0mb\u001b[0m\u001b[0;34m\u001b[0m\u001b[0m\n\u001b[0;32m---> 70\u001b[0;31m         \u001b[0;32melif\u001b[0m \u001b[0mpath\u001b[0m \u001b[0;34m==\u001b[0m \u001b[0;34m''\u001b[0m \u001b[0;32mor\u001b[0m \u001b[0mpath\u001b[0m\u001b[0;34m.\u001b[0m\u001b[0mendswith\u001b[0m\u001b[0;34m(\u001b[0m\u001b[0;34m'/'\u001b[0m\u001b[0;34m)\u001b[0m\u001b[0;34m:\u001b[0m\u001b[0;34m\u001b[0m\u001b[0m\n\u001b[0m\u001b[1;32m     71\u001b[0m             \u001b[0mpath\u001b[0m \u001b[0;34m+=\u001b[0m  \u001b[0mb\u001b[0m\u001b[0;34m\u001b[0m\u001b[0m\n\u001b[1;32m     72\u001b[0m         \u001b[0;32melse\u001b[0m\u001b[0;34m:\u001b[0m\u001b[0;34m\u001b[0m\u001b[0m\n",
      "\u001b[0;31mAttributeError\u001b[0m: 'NoneType' object has no attribute 'endswith'"
     ]
    }
   ],
   "source": [
    "output_folder = os.path.join(os.path.expanduser('~'), 'ear_tracking_results')\n",
    "print os.path.isdir(output_folder)\n",
    "if not os.path.isdir(output_folder):\n",
    "    os.mkdir(output_folder)\n",
    "\n",
    "# Read images' information and create output folders\n",
    "share_data_directory = shared_data(openalea.eartrack)\n",
    "param_folder = os.path.join(share_data_directory, \"parameters\")\n",
    "images_folder = os.path.join(share_data_directory, \"images\")\n",
    "\n",
    "img_desc, parameters = st_lib.init(param_folder, images_folder, output_folder)"
   ]
  },
  {
   "cell_type": "markdown",
   "metadata": {},
   "source": [
    "## Selection of one plant and one imaging task"
   ]
  },
  {
   "cell_type": "code",
   "execution_count": null,
   "metadata": {},
   "outputs": [],
   "source": [
    "plant = img_desc.keys()[0]\n",
    "task = img_desc[plant].keys()[0]\n",
    "\n",
    "results_folder = os.path.join(output_folder, str(plant), 'results')\n",
    "cabin = img_desc[plant][task]['cabin']\n",
    "task_folder = os.path.join(output_folder, str(plant), str(task))"
   ]
  },
  {
   "cell_type": "markdown",
   "metadata": {},
   "source": [
    "## Read images and show them"
   ]
  },
  {
   "cell_type": "code",
   "execution_count": null,
   "metadata": {},
   "outputs": [],
   "source": [
    "%matplotlib notebook\n",
    "images = st_lib.read_images(img_desc, plant, task)\n",
    "fig, axes = plt.subplots(nrows=1, ncols=3)\n",
    "axlist = fig.get_axes()\n",
    "axlist[0].imshow(images[\"top\"][0])\n",
    "axlist[1].imshow(images[\"side\"][0])\n",
    "axlist[2].imshow(images[\"side\"][90])"
   ]
  },
  {
   "cell_type": "markdown",
   "metadata": {},
   "source": [
    "## Compute binaries and show them"
   ]
  },
  {
   "cell_type": "code",
   "execution_count": null,
   "metadata": {},
   "outputs": [],
   "source": [
    "binaries, mask_top_center = st_lib.binaries_calculation(images, cabin, parameters)\n",
    "\n",
    "fig, axes = plt.subplots(nrows=1, ncols=3)\n",
    "axlist = fig.get_axes()\n",
    "axlist[0].imshow(binaries[\"top\"][0])\n",
    "axlist[1].imshow(binaries[\"side\"][0])\n",
    "axlist[2].imshow(binaries[\"side\"][90])"
   ]
  },
  {
   "cell_type": "code",
   "execution_count": null,
   "metadata": {},
   "outputs": [],
   "source": [
    "existing_angles = binaries[\"side\"].keys()\n",
    "angles_to_keep, result_img, top_log = et_lib.top_analyse(binaries[\"top\"][0], existing_angles, mask_top_center)\n",
    "fig = plt.figure()\n",
    "plt.imshow(result_img)"
   ]
  },
  {
   "cell_type": "code",
   "execution_count": null,
   "metadata": {},
   "outputs": [],
   "source": [
    "kept_positions = np.empty([0, 3], 'int')\n",
    "useful_kept_images = np.empty([0], 'int')\n",
    "for angle in angles_to_keep:\n",
    "    positions, imagesUtiles, debug = et_lib.side_analyse(binaries[\"side\"][angle],\n",
    "                                                         images[\"side\"][angle],\n",
    "                                                         angle,\n",
    "                                                         task_folder,\n",
    "                                                         parameters[cabin][\"side\"][\"pot_height\"],\n",
    "                                                         parameters[cabin][\"side\"][\"pot_width\"],)\n",
    "    kept_positions = np.append(kept_positions, positions, axis=0)\n",
    "    useful_kept_images = np.append(useful_kept_images, imagesUtiles, axis=0)"
   ]
  },
  {
   "cell_type": "code",
   "execution_count": null,
   "metadata": {},
   "outputs": [],
   "source": [
    "values = np.empty([0, 2], 'int')\n",
    "im = np.empty([0], 'int')\n",
    "for i in range(len(kept_positions)):\n",
    "    for j in range(kept_positions[i, 2]):\n",
    "        values = np.append(values, [kept_positions[i, 0:2]], axis=0)\n",
    "        im = np.append(im, useful_kept_images[i])\n",
    "mean_pos, finales_positions, final_kept_images = et_lib.robust_mean(values, im)\n",
    "finales_positions = np.append(finales_positions, np.array([final_kept_images]).T, 1)"
   ]
  },
  {
   "cell_type": "code",
   "execution_count": null,
   "metadata": {},
   "outputs": [],
   "source": [
    "imageFinale = images[\"side\"][finales_positions[0, 2]].copy()\n",
    "if not (mean_pos == [-1, -1]).all():\n",
    "    imageFinale[mean_pos[0] - 20:mean_pos[0] + 21, mean_pos[1]-20:mean_pos[1] + 21, :] = (255, 0, 0)\n",
    "elif finales_positions.shape[0] == 2:\n",
    "    for pos in finales_positions:\n",
    "        imageFinale[pos[0] - 30:pos[0] + 31, pos[1] - 30:pos[1] + 31, :] = (255, 0, 0)\n",
    "fig = plt.figure()\n",
    "plt.imshow(imageFinale)"
   ]
  }
 ],
 "metadata": {
  "kernelspec": {
   "display_name": "IPython (Python 2)",
   "language": "python",
   "name": "python2"
  },
  "language_info": {
   "codemirror_mode": {
    "name": "ipython",
    "version": 2
   },
   "file_extension": ".py",
   "mimetype": "text/x-python",
   "name": "python",
   "nbconvert_exporter": "python",
   "pygments_lexer": "ipython2",
   "version": "2.7.13"
  }
 },
 "nbformat": 4,
 "nbformat_minor": 1
}
